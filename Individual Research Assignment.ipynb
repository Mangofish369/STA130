{
 "cells": [
  {
   "cell_type": "markdown",
   "id": "bcf7a673",
   "metadata": {},
   "source": [
    "# Investigative Analysis on How Well Marginal Groups Reintegrate Post Pandemic\n",
    "## Motive: To study how different marginal groups recover from physical isolation, and identify which groups of people are most vulnerable from isolation.\n",
    "### Groups of Study: Age, Ethnicity, Population Size\n",
    "\n",
    "**1. Age**\n",
    "\n",
    "*Research Question:* How well do different age groups reintegrate to society post pandemic?\n",
    "\n",
    "*Groups of Interest:*\n",
    "- Young Adults (18-24)\n",
    "- Adults (25-64)\n",
    "- Seniors (65+)\n",
    "\n",
    "*Variables:*<p>\n",
    "Mean, median, IQR, and Standard Deviation for key parameters that measure average social life status of each age group. We can take the cumulative mean of each of the following parameters to quantify a person’s experience in reintegration. \n",
    "Parameters include satisfaction in life, loneliness, and Mental health scores.\n",
    "Aim to make box plots and KDEsto visualize how the average social life changes each year post pandemic. \n",
    "\n",
    "*Analysis:*<p>\n",
    "The primary focus is measuring relative change each year. We will test if  there is a significant difference in between an older vs a younger generation’s ability to improve their social life post pandemic. \n",
    "Use ANOVA (Analysis of Variance) to compare means of distributions and compute the p-value to find whether or not there is evidence of significant change between any group.\n",
    "If ANOVA indicates that the null hypothesis may be rejected, we need to proceed with an ad-hoc test to verify which groups are different. We can use Tukey’s HSD to determine which group is an outlier by calculating HSD using (mean * std error) and checking if the range between two groups is larger than HSD.\n",
    "\n",
    "*Hypothesis:* <p>\n",
    "\n",
    "H<sub>0</sub> : Null Hypothesis is that there is no significant difference in social life improvement between older and younger generations.\n",
    "\n",
    "H<sub>1</sub> : There is a significant difference in social life improvement between older and younger generations. "
   ]
  },
  {
   "cell_type": "markdown",
   "id": "b46c62b4",
   "metadata": {},
   "source": [
    "**2. Ethnicity**\n",
    "\n",
    "*Research Question:* How well do different ethnic communities recover from pandemics?\n",
    "\n",
    "*Groups of Interest:* Indigenous Canadian, Black, Arab, East Asian, Filipino, Latin American, South Asian, Southeast Asian, West Asian, White\n",
    "\n",
    "*Variables:*<p>\n",
    "To analyze each ethnic group’s ability to rebound from a pandemic, we will be taking the cumulative mean score of physical health, mental health and the average rating of the community from each ethnic group.\n",
    "\n",
    "*Analysis:*<p>\n",
    "We first use ANOVA (Analysis of Variance) to assess whether or not there is a significant difference within groups. If our calculated p-value is below 0.05, we will then proceed to use a Tukey’s HSD test to determine which groups are outliers. \n",
    "\n",
    "*Hypothesis:* <p>\n",
    "H<sub>0</sub> : There is no significant difference in social life improvement between different ethnic groups.\n",
    "\n",
    "H<sub>1</sub> : There is a significant difference in social life improvement between different ethnic groups."
   ]
  },
  {
   "cell_type": "markdown",
   "id": "f4ac7b82",
   "metadata": {},
   "source": [
    "**3. Population Size**\n",
    "\n",
    "*Research Question:* How does population size impact a community’s ability to recover from a pandemic?\n",
    "\n",
    "*Groups of Interest:*\n",
    "- Rural (Less than 1,000)\n",
    "- Small city/town (1,000 - 29,999)\n",
    "- Medium city/town (30,000 - 99,999)\n",
    "- Large urban centre ( 100,000+)\n",
    "\n",
    "*Variables:*<p>\n",
    "To quantify a community’s ability to recover from a pandemic, we will take the cumulative mean scores of mental health, physical health, and rating of their community from each population size. Having box plots and KDE’s help direct our focus to investigate where differences in ability may lie.\n",
    "\n",
    "*Analysis:*<p>\n",
    "Once again we will start with ANOVA (Analysis of Variance) to determine if there are any differences in ability to recover between communities.\n",
    "If ANOVA determines that there is strong evidence in favor of a difference existing, we then apply the ad-hoc test Tukey’s HSD to identify which group is different.\n",
    "\n",
    "*Hypothesis:* <p>\n",
    "H<sub>0</sub> : No population group displays a significant difference in ability to recover from the pandemic relative to other groups with different sizes.\n",
    "\n",
    "H<sub>1</sub> : Populations of varying sizes display significant differences in ability to recover from the pandemic."
   ]
  }
 ],
 "metadata": {
  "kernelspec": {
   "display_name": "Python 3 (ipykernel)",
   "language": "python",
   "name": "python3"
  },
  "language_info": {
   "codemirror_mode": {
    "name": "ipython",
    "version": 3
   },
   "file_extension": ".py",
   "mimetype": "text/x-python",
   "name": "python",
   "nbconvert_exporter": "python",
   "pygments_lexer": "ipython3",
   "version": "3.11.6"
  }
 },
 "nbformat": 4,
 "nbformat_minor": 5
}
