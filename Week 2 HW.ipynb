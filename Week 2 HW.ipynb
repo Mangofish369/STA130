{
 "cells": [
  {
   "cell_type": "code",
   "execution_count": 1,
   "id": "79138736",
   "metadata": {},
   "outputs": [],
   "source": [
    "# Sept 16, 2024\n",
    "\n",
    "#PRE-LECTURE TASKS"
   ]
  },
  {
   "cell_type": "code",
   "execution_count": 1,
   "id": "412ccdfb",
   "metadata": {},
   "outputs": [
    {
     "name": "stdout",
     "output_type": "stream",
     "text": [
      "Win probability by switching: 0.666534\n"
     ]
    },
    {
     "data": {
      "text/plain": [
       "\"\\nChatGPT Interaction:  https://chatgpt.com/share/66ea4d2e-3ec0-8012-8429-47ded14873f9\\n    \\n    \\n    \\nHere's a summary of our interaction:\\n\\n    Monty Hall Problem Explanation: I explained the Monty Hall problem, which involves a contestant choosing between three doors, with the option to switch after a door is revealed by the host.\\n\\n    Python Code Explanation: You provided a Python code simulation of the Monty Hall problem, and I explained each step in detail, including how the car's location, player’s choice, and the host’s actions are handled.\\n\\n    Simplified Code Request: You asked for a simplified version of the Monty Hall code, which I provided, reducing the complexity while maintaining the same logic and outcome.\\n\\nThe key insight from the interaction is that switching doors in the Monty Hall problem gives a 2/3 chance of winning, and I explained how the code models this outcome.\\n\""
      ]
     },
     "execution_count": 1,
     "metadata": {},
     "output_type": "execute_result"
    }
   ],
   "source": [
    "#Task 1-3\n",
    "\n",
    "import numpy as np\n",
    "\n",
    "# Set up initial parameters\n",
    "reps = 1000000  # Number of repetitions\n",
    "wins = 0  # Counter for wins\n",
    "\n",
    "# Run the simulation\n",
    "for _ in range(reps):\n",
    "    # Randomly assign the winning door and assume player picks door 1\n",
    "    #Because player one always picks door 1, the rest of the game is hard coded and much more simplified\n",
    "    winning_door = np.random.choice([1, 2, 3])\n",
    "    \n",
    "    # Host opens a door with a goat (not the player's choice or the winning door)\n",
    "    goat_door = np.random.choice([door for door in [2, 3] if door != winning_door])\n",
    "    \n",
    "    # Player switches to the remaining door\n",
    "    switch_choice = 6 - 1 - goat_door  # The remaining door (1+2+3 = 6, so 6 minus the other two)\n",
    "\n",
    "    # Increment wins if switch choice is correct\n",
    "    wins += (switch_choice == winning_door)\n",
    "\n",
    "# Calculate and print win probability\n",
    "print(f\"Win probability by switching: {wins / reps}\")\n",
    "\n",
    "\"\"\"\n",
    "ChatGPT Interaction:  https://chatgpt.com/share/66ea4d2e-3ec0-8012-8429-47ded14873f9\n",
    "    \n",
    "    \n",
    "    \n",
    "Here's a summary of our interaction:\n",
    "\n",
    "    Monty Hall Problem Explanation: I explained the Monty Hall problem, which involves a contestant choosing between three doors, with the option to switch after a door is revealed by the host.\n",
    "\n",
    "    Python Code Explanation: You provided a Python code simulation of the Monty Hall problem, and I explained each step in detail, including how the car's location, player’s choice, and the host’s actions are handled.\n",
    "\n",
    "    Simplified Code Request: You asked for a simplified version of the Monty Hall code, which I provided, reducing the complexity while maintaining the same logic and outcome.\n",
    "\n",
    "The key insight from the interaction is that switching doors in the Monty Hall problem gives a 2/3 chance of winning, and I explained how the code models this outcome.\n",
    "\"\"\"\n"
   ]
  },
  {
   "cell_type": "code",
   "execution_count": null,
   "id": "9ab5a0ff",
   "metadata": {},
   "outputs": [],
   "source": [
    "#Task 4\n",
    "\n",
    "#Conversation with Chatbot: https://chatgpt.com/share/66ec2a02-79f8-8012-af49-8af14237b8fe\n",
    "\n",
    "# Note: I did not ask for summary because, I continued to Q5, so the summary of all interactions related to Markovian chains\n",
    "#       will be posted there."
   ]
  },
  {
   "cell_type": "code",
   "execution_count": null,
   "id": "d16d28fe",
   "metadata": {},
   "outputs": [],
   "source": [
    "#Task 5\n",
    "\n",
    "\"\"\"\n",
    "Link to chatlog with ChatGPT: https://chatgpt.com/share/66ec2a02-79f8-8012-af49-8af14237b8fe\n",
    "\n",
    "Summary of Interactions\n",
    "\n",
    "Today, we discussed your code for building a Markovian chatbot and explored various extensions to improve it. Here's a summary:\n",
    "\n",
    "    Initial Markovian Chatbot: You shared a simple Markov chain implementation where transitions between words were tracked to generate sentences based on word probabilities.\n",
    "\n",
    "    First Extension: You extended the model to consider two-word pairs (bigrams) as the state, making it a second-order Markov chain. This adds more context when predicting the next word and improves sentence coherence.\n",
    "\n",
    "    Second Extension: You introduced character-specific Markov chains, where each character in a dataset has their own unique model for word transitions. This allows the chatbot to generate personalized text that reflects each character’s speech patterns. We also discussed how to improve and extend the sentence generation function to work with this character-based structure.\n",
    "\n",
    "\n",
    "\"\"\""
   ]
  },
  {
   "cell_type": "code",
   "execution_count": null,
   "id": "3f06e09d",
   "metadata": {},
   "outputs": [],
   "source": [
    "#Task 6\n",
    "\n",
    "\"\"\"\n",
    "1.  Chatgpt's ability to understand advanced concepts like Monty Hall problem and Markovian Chain code is suprisingly adept.\n",
    "    Perhaps this is due to the fact that both topics have been widely discussed before and ChatGPT is likely well trained\n",
    "    on it.\n",
    "    \n",
    "    That being said, I would have liked to see ChatGPT reccomend some performance suggestions for the code, as I know that\n",
    "    running any form of useful Markovian code, like bigrams, trigrams etc. uses vast amounts of computational power.\n",
    "    But perhaps that is outside of ChatpGPT's scope.\n",
    "    \n",
    "2.  My interactions with ChatGPT have been rather smooth so far, I believe that in terms of coding, it is better to ask\n",
    "    ChatGPT questions relating to: explaining code, understanding functions/usage of imports.\n",
    "    Things ChatGPT does NOT handle well are: explaining syntax and finding bugs/reading error statements. The former is \n",
    "    just hard, and the latter is probably due to lack of context, something github copilot can probably achieve.\n",
    "    \n",
    "3.  My overall conclusion so far is that ChatGPT is a viable tool to explain code, so long as the code is a well known\n",
    "    and used.\n",
    "\"\"\""
   ]
  },
  {
   "cell_type": "code",
   "execution_count": null,
   "id": "3d60c638",
   "metadata": {},
   "outputs": [],
   "source": [
    "#Task 7\n",
    "\n",
    "\"\"\"\n",
    "Since ChatGPT's launch 2 years ago, this along with many other AI Langauge Models have seen considerable growth in both their\n",
    "capabilities to consume increasingly complex information and their accuracy in predicting/mimicking human text. \n",
    "\n",
    "While I am by no means an expert at Transformative Language Models or AI in general, I do hold the opinion that the growth\n",
    "of these GPT's will start to slow down a considerable amount do to a lack of resources.\n",
    "\n",
    "    To improve, AI need both:\n",
    "        - large amounts of data \n",
    "        - faster computing time to process and train data\n",
    "        \n",
    "With all the publicly avaiable data gone, companies are turning to private sectors of data, user info and data base,\n",
    "social media, text messages and more. Yet it whether or not these large corporations will be able to gain acess to this\n",
    "supposed \"wealth\" of information, this is what I believe is the current ceiling/limit of these Language Models.\n",
    "\n",
    "Of course the ethics of using data is another discussion entirely. \n",
    "\"\"\""
   ]
  },
  {
   "cell_type": "code",
   "execution_count": null,
   "id": "9e6d6be0",
   "metadata": {},
   "outputs": [],
   "source": [
    "#Task 8\n",
    "\n",
    "\"\"\"\n",
    "1.  ChatGPT gives a generic response about the importance of each skill. Coding and Data Analysis are important because of\n",
    "    their wide reaching applications. The ability to learn, be flexible and communicate effectively because they demonstrate\n",
    "    a person's ability to react and handle to change.\n",
    "    \n",
    "2.  ChatGPT says that non-technical or low entry jobs can be done without the use of code as applications such as \n",
    "    Microsoft Excel are enough to do small scale data analysis. \n",
    "    \n",
    "\n",
    "3. Chat Log: https://chatgpt.com/share/66ecd08f-3194-8012-b4a9-fc89cd620cc3\n",
    "\n",
    "\n",
    "In our interaction, you asked about the relevance of skills like learning, flexibility, and communication for career opportunities, and I explained how these soft skills help individuals adapt, grow, and succeed in dynamic environments. We then discussed the importance of coding and data analysis in today's job market, highlighting how both are crucial in tech and non-tech roles due to the growing reliance on technology and data-driven decision-making.\n",
    "\n",
    "Next, you asked if it’s possible to become a data analyst without coding, and I confirmed that while it is possible using tools like Excel, BI platforms, and Google Analytics, learning coding languages like Python and SQL enhances capabilities and career growth. I then emphasized that critical thinking is the most critical skill for data analysis, explaining how it helps with problem-solving, interpreting data, and making informed decisions.\n",
    "\n",
    "Finally, I offered strategies to further develop critical thinking skills, such as asking probing questions, practicing reflection, engaging in debates, and learning data interpretation techniques.\n",
    "\n",
    "\n",
    "4.  ChatGPT defines the most important skill for a coding/data analyst driven job is critical thinking. While is its probably\n",
    "    not disbutable, I feel like ChatGPT's stance on this issue is too broad and lacked any direction to futher expand on the\n",
    "    topic.\n",
    "    \n",
    "    \n",
    "5.  ChatGPT's advice is limited by how generic the generated answers are. I think it is better to reflect on yourself to \n",
    "    figure out what is the right path/course of action rather than ChatGPT, because the reponses are exactly the same as\n",
    "    ones you can find on google searches. Of course this could be due to the fact that giving advice online generally adheres\n",
    "    to being generic as this helps avoid responsibility if someone were to take online advice the wrong way.\n",
    "    So to conclude I think ChatGPT is better at technical help and problem solving rather than giving advice or high level\n",
    "    suggestions.\n",
    "\n",
    "\"\"\""
   ]
  },
  {
   "cell_type": "code",
   "execution_count": null,
   "id": "388795b8",
   "metadata": {},
   "outputs": [],
   "source": [
    "#Task 9\n",
    "\n",
    "\"\"\"\n",
    "Yes, I have gone at the course wiki and reviewed this week's lecture concepts.\n",
    "\"\"\""
   ]
  }
 ],
 "metadata": {
  "kernelspec": {
   "display_name": "Python 3 (ipykernel)",
   "language": "python",
   "name": "python3"
  },
  "language_info": {
   "codemirror_mode": {
    "name": "ipython",
    "version": 3
   },
   "file_extension": ".py",
   "mimetype": "text/x-python",
   "name": "python",
   "nbconvert_exporter": "python",
   "pygments_lexer": "ipython3",
   "version": "3.11.6"
  }
 },
 "nbformat": 4,
 "nbformat_minor": 5
}
